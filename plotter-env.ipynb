{
 "cells": [
  {
   "cell_type": "code",
   "execution_count": null,
   "metadata": {},
   "outputs": [],
   "source": [
    "import matplotlib.pyplot as plt\n",
    "import pandas as pd\n",
    "import numpy as np\n",
    "import seaborn as sns\n",
    "from vader import Vader\n",
    "from normalization import Normalizer\n",
    "from reviewCleaner import cleaner\n",
    "sns.set_theme()\n",
    "vader = Vader()"
   ]
  },
  {
   "cell_type": "code",
   "execution_count": null,
   "metadata": {},
   "outputs": [],
   "source": [
    "brands = {\n",
    "    'apple': 0,\n",
    "    # 'google': 0,\n",
    "    'huawei': 0,\n",
    "    # 'motorola': 0,\n",
    "    # 'nokia': 0,\n",
    "    # 'samsung': 0,\n",
    "    # 'sony': 0,\n",
    "    # 'xiaomi': 0,\n",
    "}\n",
    "\n",
    "aspects = ['phone', 'display', 'camera', 'battery', 'screen']\n",
    "\n",
    "# f = {}\n",
    "# s = {}\n",
    "# u = {}\n"
   ]
  },
  {
   "cell_type": "code",
   "execution_count": null,
   "metadata": {},
   "outputs": [],
   "source": [
    "for brand in brands:\n",
    "    reviews = pd.read_csv(f'./assets/reviews/{brand}.csv')['Review'].map(\n",
    "        cleaner\n",
    "    )\n",
    "    normalizer = Normalizer(brand, aspects, stats=False)\n",
    "    normalizer.normalize()\n",
    "\n",
    "    fig, ax = plt.subplots(figsize=(10, 10), subplot_kw={'projection': '3d'})\n",
    "\n",
    "    for aspect in aspects:\n",
    "        _reviews = reviews[reviews.apply(lambda r: aspect in r)]\n",
    "        f = (\n",
    "            _reviews.apply(lambda r: vader.sentiment_analysis(r)[-1]).mean() + 1\n",
    "        ) / 2\n",
    "        s = normalizer.strength[aspect]\n",
    "        u = normalizer.uniqueness[aspect]\n",
    "        ax.scatter(f, s, u, label=aspect)\n",
    "\n",
    "ax.set_title(brand, fontsize=20)\n",
    "\n",
    "ax.set_xlabel('Favorability', fontsize=16)\n",
    "ax.set_ylabel('Strength', fontsize=16)\n",
    "ax.set_zlabel('Uniqueness', fontsize=16)\n",
    "\n",
    "ax.locator_params(nbins=6)\n",
    "ax.legend(fontsize=14)\n",
    "fig.savefig(brand, dpi=600)\n"
   ]
  }
 ],
 "metadata": {
  "kernelspec": {
   "display_name": "Python 3.9.13 ('venv': venv)",
   "language": "python",
   "name": "python3"
  },
  "language_info": {
   "codemirror_mode": {
    "name": "ipython",
    "version": 3
   },
   "file_extension": ".py",
   "mimetype": "text/x-python",
   "name": "python",
   "nbconvert_exporter": "python",
   "pygments_lexer": "ipython3",
   "version": "3.9.13"
  },
  "orig_nbformat": 4,
  "vscode": {
   "interpreter": {
    "hash": "25a274c91618e86bf971302a255e754477cb6fa0a0a6b8137219373bf03a1777"
   }
  }
 },
 "nbformat": 4,
 "nbformat_minor": 2
}
